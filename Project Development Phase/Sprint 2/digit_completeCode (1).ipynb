{
  "nbformat": 4,
  "nbformat_minor": 0,
  "metadata": {
    "colab": {
      "provenance": []
    },
    "kernelspec": {
      "name": "python3",
      "display_name": "Python 3"
    },
    "language_info": {
      "name": "python"
    }
  },
  "cells": [
    {
      "cell_type": "code",
      "execution_count": null,
      "metadata": {
        "id": "XNo_DkcdhBKV"
      },
      "outputs": [],
      "source": []
    },
    {
      "cell_type": "markdown",
      "source": [
        "# **UNDERSTANDING THE DATA**"
      ],
      "metadata": {
        "id": "SLMDpF2E-Oge"
      }
    },
    {
      "cell_type": "markdown",
      "source": [
        "**IMPORTING THE REQUIRED LIBRARIES**"
      ],
      "metadata": {
        "id": "1AAgjHyo-Z68"
      }
    },
    {
      "cell_type": "code",
      "execution_count": 2,
      "metadata": {
        "id": "-k8t3sxSuWia"
      },
      "outputs": [],
      "source": [
        "import numpy #for numerical analysis\n",
        "import tensorflow #open source ml tool by google\n",
        "from tensorflow.keras.datasets import mnist \n",
        "\n",
        "# mnist dataset\n",
        "from tensorflow.keras.models import Sequential # stack for layers\n",
        "from tensorflow.keras import layers #input,middle and output layers forcnn structure\n",
        "from tensorflow.keras.layers import Dense,Flatten #dense and flatten layers\n",
        "from tensorflow.keras.layers import Conv2D #convolutional layers\n",
        "from tensorflow import keras #library for building neural networks built on tensorflow\n",
        "from tensorflow.keras.optimizers import Adam #optimizers\n",
        "from keras.utils import np_utils"
      ]
    },
    {
      "cell_type": "markdown",
      "source": [
        "**LOADING** **THE** **DATA**"
      ],
      "metadata": {
        "id": "GxOnso7D-i4b"
      }
    },
    {
      "cell_type": "code",
      "source": [
        "(x_train,y_train),(x_test,y_test)=mnist.load_data()"
      ],
      "metadata": {
        "id": "YslIGcyl-qMK",
        "colab": {
          "base_uri": "https://localhost:8080/"
        },
        "outputId": "39f0cd12-1b16-4509-d43b-ccf2ac5180b1"
      },
      "execution_count": 3,
      "outputs": [
        {
          "output_type": "stream",
          "name": "stdout",
          "text": [
            "Downloading data from https://storage.googleapis.com/tensorflow/tf-keras-datasets/mnist.npz\n",
            "11490434/11490434 [==============================] - 1s 0us/step\n"
          ]
        }
      ]
    },
    {
      "cell_type": "markdown",
      "source": [
        "**ANALYZING THE DATA**"
      ],
      "metadata": {
        "id": "e91C4K9C-tmZ"
      }
    },
    {
      "cell_type": "code",
      "source": [
        "print(x_train.shape)\n",
        "print(x_test.shape)\n",
        "\n",
        "print(x_test.shape)\n",
        "print(y_test.shape)\n",
        "\n",
        "x_train[3]\n",
        "y_train[0]\n",
        "import matplotlib.pyplot as plt\n",
        "plt.imshow(x_train[36])"
      ],
      "metadata": {
        "id": "F3Uoa9a1-23S",
        "colab": {
          "base_uri": "https://localhost:8080/",
          "height": 352
        },
        "outputId": "69c925b2-d0f9-4edf-de1e-9879cc5be069"
      },
      "execution_count": 4,
      "outputs": [
        {
          "output_type": "stream",
          "name": "stdout",
          "text": [
            "(60000, 28, 28)\n",
            "(10000, 28, 28)\n",
            "(10000, 28, 28)\n",
            "(10000,)\n"
          ]
        },
        {
          "output_type": "execute_result",
          "data": {
            "text/plain": [
              "<matplotlib.image.AxesImage at 0x7f00d4d0c790>"
            ]
          },
          "metadata": {},
          "execution_count": 4
        },
        {
          "output_type": "display_data",
          "data": {
            "text/plain": [
              "<Figure size 432x288 with 1 Axes>"
            ],
            "image/png": "[encoded data removed]"
          },
          "metadata": {
            "needs_background": "light"
          }
        }
      ]
    },
    {
      "cell_type": "markdown",
      "source": [
        "**RESHAPING THE DATA**"
      ],
      "metadata": {
        "id": "GiMneGHQ_Aw6"
      }
    },
    {
      "cell_type": "code",
      "source": [
        "#(batch,height,width,channel)\n",
        "x_train=x_train.reshape(60000,28,28,1).astype('float32')\n",
        "x_test=x_test.reshape(10000,28,28,1).astype('float32')"
      ],
      "metadata": {
        "id": "bYiPA2PS-_0o"
      },
      "execution_count": 5,
      "outputs": []
    },
    {
      "cell_type": "markdown",
      "source": [
        "**APPLYING ONE-HOT ENCODING**"
      ],
      "metadata": {
        "id": "puTa1IPv_NHh"
      }
    },
    {
      "cell_type": "code",
      "source": [
        "#(batch,height,width,channel)\n",
        "x_train=x_train.reshape(60000,28,28,1).astype('float32')\n",
        "x_test=x_test.reshape(10000,28,28,1).astype('float32')\n",
        "\n",
        "no_of_classes=10\n",
        "y_train=np_utils.to_categorical(y_train,no_of_classes)\n",
        "y_test=np_utils.to_categorical(y_test,no_of_classes)\n",
        "y_test[3]"
      ],
      "metadata": {
        "colab": {
          "base_uri": "https://localhost:8080/"
        },
        "id": "e7yaP1mn1XE8",
        "outputId": "7e0fb295-69e5-40bd-a94f-9bdaf1adc4e8"
      },
      "execution_count": 6,
      "outputs": [
        {
          "output_type": "execute_result",
          "data": {
            "text/plain": [
              "array([1., 0., 0., 0., 0., 0., 0., 0., 0., 0.], dtype=float32)"
            ]
          },
          "metadata": {},
          "execution_count": 6
        }
      ]
    },
    {
      "cell_type": "code",
      "source": [],
      "metadata": {
        "id": "GrcQGMY2hWBD"
      },
      "execution_count": null,
      "outputs": []
    },
    {
      "cell_type": "markdown",
      "source": [
        "# **MODEL BUILDING**"
      ],
      "metadata": {
        "id": "DGqrcBpiB5Qz"
      }
    },
    {
      "cell_type": "markdown",
      "source": [
        "**ADDING CNN LAYERS**"
      ],
      "metadata": {
        "id": "NBZZgKwqCDWs"
      }
    },
    {
      "cell_type": "code",
      "execution_count": 8,
      "metadata": {
        "id": "P_uJdv6QAc4S"
      },
      "outputs": [],
      "source": [
        "model=Sequential ()\n",
        "model.add(Conv2D(64, (3, 3), input_shape=(28, 28, 1), activation='relu'))\n",
        "model.add(Conv2D(32, (3, 3), activation = 'relu'))\n",
        "model.add(Flatten())\n",
        "model.add(Dense(no_of_classes,activation = 'softmax'))"
      ]
    },
    {
      "cell_type": "markdown",
      "source": [
        "**COMPILING THE MODEL**"
      ],
      "metadata": {
        "id": "FkFZwn9sClat"
      }
    },
    {
      "cell_type": "code",
      "source": [
        "model.compile(loss= 'categorical_crossentropy', optimizer=\"Adam\", metrics=['accuracy'])"
      ],
      "metadata": {
        "id": "hJvk3JkSDAcR"
      },
      "execution_count": 9,
      "outputs": []
    },
    {
      "cell_type": "markdown",
      "source": [
        "**TRAINING THE MODEL**"
      ],
      "metadata": {
        "id": "8553tT-3DEiD"
      }
    },
    {
      "cell_type": "code",
      "source": [
        "model.fit(x_train, y_train, validation_data=(x_test, y_test), epochs=5, batch_size=32)"
      ],
      "metadata": {
        "id": "w2WA1jaHDhrg",
        "colab": {
          "base_uri": "https://localhost:8080/"
        },
        "outputId": "20cc131f-a6c8-47d4-e790-fce0bc03a293"
      },
      "execution_count": 10,
      "outputs": [
        {
          "output_type": "stream",
          "name": "stdout",
          "text": [
            "Epoch 1/5\n",
            "1875/1875 [==============================] - 206s 109ms/step - loss: 0.2349 - accuracy: 0.9513 - val_loss: 0.1048 - val_accuracy: 0.9719\n",
            "Epoch 2/5\n",
            "1875/1875 [==============================] - 195s 104ms/step - loss: 0.0684 - accuracy: 0.9788 - val_loss: 0.0889 - val_accuracy: 0.9750\n",
            "Epoch 3/5\n",
            "1875/1875 [==============================] - 198s 105ms/step - loss: 0.0473 - accuracy: 0.9853 - val_loss: 0.0787 - val_accuracy: 0.9798\n",
            "Epoch 4/5\n",
            "1875/1875 [==============================] - 191s 102ms/step - loss: 0.0351 - accuracy: 0.9889 - val_loss: 0.0865 - val_accuracy: 0.9779\n",
            "Epoch 5/5\n",
            "1875/1875 [==============================] - 198s 105ms/step - loss: 0.0256 - accuracy: 0.9919 - val_loss: 0.0973 - val_accuracy: 0.9773\n"
          ]
        },
        {
          "output_type": "execute_result",
          "data": {
            "text/plain": [
              "<keras.callbacks.History at 0x7f00d048da10>"
            ]
          },
          "metadata": {},
          "execution_count": 10
        }
      ]
    },
    {
      "cell_type": "markdown",
      "source": [
        "**OBSERVING THE METRCS**"
      ],
      "metadata": {
        "id": "24EoXQYMDhDB"
      }
    },
    {
      "cell_type": "code",
      "source": [
        "metrics = model.evaluate(x_test, y_test, verbose = 0)\n",
        "print(\"Metrics(Test loss and test accuracy): \")\n",
        "print(metrics)"
      ],
      "metadata": {
        "id": "mgBw3Rz1DqNV",
        "colab": {
          "base_uri": "https://localhost:8080/"
        },
        "outputId": "a94da5de-6fae-441f-f16a-12945c033453"
      },
      "execution_count": 11,
      "outputs": [
        {
          "output_type": "stream",
          "name": "stdout",
          "text": [
            "Metrics(Test loss and test accuracy): \n",
            "[0.09733106195926666, 0.9772999882698059]\n"
          ]
        }
      ]
    },
    {
      "cell_type": "markdown",
      "source": [
        "**TESTING THE MODEL**"
      ],
      "metadata": {
        "id": "pXwjaCmcEZgf"
      }
    },
    {
      "cell_type": "code",
      "source": [
        "prediction=model.predict(x_test[6000:6001])\n",
        "print(prediction)\n",
        "\n",
        "import numpy as np\n",
        "print(np.argmax(prediction, axis=1)) \n",
        "np.argmax(y_test[5000:5001]) "
      ],
      "metadata": {
        "id": "OJPYdoktEfmx",
        "colab": {
          "base_uri": "https://localhost:8080/"
        },
        "outputId": "e2b0005b-8e90-49d9-a1a9-48fa0b412832"
      },
      "execution_count": 12,
      "outputs": [
        {
          "output_type": "stream",
          "name": "stdout",
          "text": [
            "1/1 [==============================] - 0s 87ms/step\n",
            "[[7.7557790e-13 6.9322569e-16 2.2229374e-09 6.8265325e-07 4.5837137e-06\n",
            "  5.7062755e-10 1.0893949e-16 7.3589426e-06 1.5833482e-05 9.9997151e-01]]\n",
            "[9]\n"
          ]
        },
        {
          "output_type": "execute_result",
          "data": {
            "text/plain": [
              "3"
            ]
          },
          "metadata": {},
          "execution_count": 12
        }
      ]
    },
    {
      "cell_type": "markdown",
      "source": [
        "**OBSERVING THE METRICS**"
      ],
      "metadata": {
        "id": "18gXfZmXEgSB"
      }
    },
    {
      "cell_type": "code",
      "source": [
        "metrics = model.evaluate(x_test, y_test, verbose = 0)\n",
        "print(\"Metrics(Test loss and test accuracy): \")\n",
        "print(metrics)"
      ],
      "metadata": {
        "id": "3n6dK50bElnA",
        "colab": {
          "base_uri": "https://localhost:8080/"
        },
        "outputId": "6add6a87-013c-43f4-cfb7-708c83f34df2"
      },
      "execution_count": 13,
      "outputs": [
        {
          "output_type": "stream",
          "name": "stdout",
          "text": [
            "Metrics(Test loss and test accuracy): \n",
            "[0.09733106195926666, 0.9772999882698059]\n"
          ]
        }
      ]
    },
    {
      "cell_type": "markdown",
      "source": [
        "**TESTING THE MODEL**"
      ],
      "metadata": {
        "id": "0Ja2H8MQEmFq"
      }
    },
    {
      "cell_type": "code",
      "source": [
        "prediction=model.predict(x_test[6000:6001])\n",
        "print(prediction)\n",
        "\n",
        "import numpy as np\n",
        "print(np.argmax(prediction, axis=1)) \n",
        "np.argmax(y_test[5000:5001]) "
      ],
      "metadata": {
        "id": "NTgxbpKhEqpq",
        "colab": {
          "base_uri": "https://localhost:8080/"
        },
        "outputId": "d3d21bef-2160-4406-97a4-241d8529279e"
      },
      "execution_count": 14,
      "outputs": [
        {
          "output_type": "stream",
          "name": "stdout",
          "text": [
            "1/1 [==============================] - 0s 18ms/step\n",
            "[[7.7557790e-13 6.9322569e-16 2.2229374e-09 6.8265325e-07 4.5837137e-06\n",
            "  5.7062755e-10 1.0893949e-16 7.3589426e-06 1.5833482e-05 9.9997151e-01]]\n",
            "[9]\n"
          ]
        },
        {
          "output_type": "execute_result",
          "data": {
            "text/plain": [
              "3"
            ]
          },
          "metadata": {},
          "execution_count": 14
        }
      ]
    },
    {
      "cell_type": "markdown",
      "source": [
        "**SAVING THE MODEL**"
      ],
      "metadata": {
        "id": "R-P_wNn-ErCS"
      }
    },
    {
      "cell_type": "code",
      "source": [
        "model.save('Sprint2/project.h5')"
      ],
      "metadata": {
        "id": "g3BjlSDHEtZS"
      },
      "execution_count": 16,
      "outputs": []
    },
    {
      "cell_type": "markdown",
      "source": [
        "**TESTING WITH THE SAVED MODEL**"
      ],
      "metadata": {
        "id": "jWMH6ZNXEt8S"
      }
    },
    {
      "cell_type": "code",
      "source": [
        "# Done by testing the file with another jupyter code."
      ],
      "metadata": {
        "id": "qjVF8STvEyr8"
      },
      "execution_count": null,
      "outputs": []
    }
  ]
}