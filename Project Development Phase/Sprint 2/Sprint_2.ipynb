{
  "nbformat": 4,
  "nbformat_minor": 0,
  "metadata": {
    "colab": {
      "provenance": []
    },
    "kernelspec": {
      "name": "python3",
      "display_name": "Python 3"
    },
    "language_info": {
      "name": "python"
    }
  },
  "cells": [
    {
      "cell_type": "markdown",
      "source": [
        "# **MODEL BUILDING**"
      ],
      "metadata": {
        "id": "DGqrcBpiB5Qz"
      }
    },
    {
      "cell_type": "markdown",
      "source": [
        "**ADDING CNN LAYERS**"
      ],
      "metadata": {
        "id": "NBZZgKwqCDWs"
      }
    },
    {
      "cell_type": "code",
      "execution_count": null,
      "metadata": {
        "id": "P_uJdv6QAc4S"
      },
      "outputs": [],
      "source": [
        "model=Sequential ()\n",
        "model.add(Conv2D(64, (3, 3), input_shape=(28, 28, 1), activation='relu'))\n",
        "model.add(Conv2D(32, (3, 3), activation = 'relu'))\n",
        "model.add(Flatten())\n",
        "model.add(Dense(number_of_classes,activation = 'softmax'))"
      ]
    },
    {
      "cell_type": "markdown",
      "source": [
        "**COMPILING THE MODEL**"
      ],
      "metadata": {
        "id": "FkFZwn9sClat"
      }
    },
    {
      "cell_type": "code",
      "source": [
        "model.compile(loss= 'categorical_crossentropy', optimizer=\"Adam\", metrics=['accuracy'])"
      ],
      "metadata": {
        "id": "hJvk3JkSDAcR"
      },
      "execution_count": null,
      "outputs": []
    },
    {
      "cell_type": "markdown",
      "source": [
        "**TRAINING THE MODEL**"
      ],
      "metadata": {
        "id": "8553tT-3DEiD"
      }
    },
    {
      "cell_type": "code",
      "source": [
        "model.fit(x_train, y_train, validation_data=(x_test, y_test), epochs=5, batch_size=32)"
      ],
      "metadata": {
        "id": "w2WA1jaHDhrg"
      },
      "execution_count": null,
      "outputs": []
    },
    {
      "cell_type": "markdown",
      "source": [
        "**OBSERVING THE METRCS**"
      ],
      "metadata": {
        "id": "24EoXQYMDhDB"
      }
    },
    {
      "cell_type": "code",
      "source": [
        "metrics = model.evaluate(x_test, y_test, verbose = 0)\n",
        "print(\"Metrics(Test loss and test accuracy): \")\n",
        "print(metrics)"
      ],
      "metadata": {
        "id": "mgBw3Rz1DqNV"
      },
      "execution_count": null,
      "outputs": []
    },
    {
      "cell_type": "markdown",
      "source": [
        "**TESTING THE MODEL**"
      ],
      "metadata": {
        "id": "pXwjaCmcEZgf"
      }
    },
    {
      "cell_type": "code",
      "source": [
        "prediction=model.predict(x_test[6000:6001])\n",
        "print(prediction)\n",
        "\n",
        "import numpy as np\n",
        "print(np.argmax(prediction, axis=1)) \n",
        "np.argmax(y_test[5000:5001]) "
      ],
      "metadata": {
        "id": "OJPYdoktEfmx"
      },
      "execution_count": null,
      "outputs": []
    },
    {
      "cell_type": "markdown",
      "source": [
        "**OBSERVING THE METRICS**"
      ],
      "metadata": {
        "id": "18gXfZmXEgSB"
      }
    },
    {
      "cell_type": "code",
      "source": [
        "metrics = model.evaluate(x_test, y_test, verbose = 0)\n",
        "print(\"Metrics(Test loss and test accuracy): \")\n",
        "print(metrics)"
      ],
      "metadata": {
        "id": "3n6dK50bElnA"
      },
      "execution_count": null,
      "outputs": []
    },
    {
      "cell_type": "markdown",
      "source": [
        "**TESTING THE MODEL**"
      ],
      "metadata": {
        "id": "0Ja2H8MQEmFq"
      }
    },
    {
      "cell_type": "code",
      "source": [
        "prediction=model.predict(x_test[6000:6001])\n",
        "print(prediction)\n",
        "\n",
        "import numpy as np\n",
        "print(np.argmax(prediction, axis=1)) \n",
        "np.argmax(y_test[5000:5001]) "
      ],
      "metadata": {
        "id": "NTgxbpKhEqpq"
      },
      "execution_count": null,
      "outputs": []
    },
    {
      "cell_type": "markdown",
      "source": [
        "**SAVING THE MODEL**"
      ],
      "metadata": {
        "id": "R-P_wNn-ErCS"
      }
    },
    {
      "cell_type": "code",
      "source": [
        "model.save('sprint2/project.h5')"
      ],
      "metadata": {
        "id": "g3BjlSDHEtZS"
      },
      "execution_count": null,
      "outputs": []
    },
    {
      "cell_type": "markdown",
      "source": [
        "**TESTING WITH THE SAVED MODEL**"
      ],
      "metadata": {
        "id": "jWMH6ZNXEt8S"
      }
    },
    {
      "cell_type": "code",
      "source": [
        "# Done by testing the file with another jupyter code."
      ],
      "metadata": {
        "id": "qjVF8STvEyr8"
      },
      "execution_count": null,
      "outputs": []
    }
  ]
}